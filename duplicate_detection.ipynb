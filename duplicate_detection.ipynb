{
 "cells": [
  {
   "cell_type": "code",
   "id": "536d2f280afb463a",
   "metadata": {
    "ExecuteTime": {
     "end_time": "2025-04-10T06:29:09.658974Z",
     "start_time": "2025-04-10T06:29:09.655915Z"
    }
   },
   "source": [
    "import pandas as pd\n",
    "from sklearn.feature_extraction.text import TfidfVectorizer\n",
    "from sklearn.metrics.pairwise import cosine_similarity\n",
    "import matplotlib.pyplot as plt"
   ],
   "outputs": [],
   "execution_count": 10
  },
  {
   "metadata": {
    "ExecuteTime": {
     "end_time": "2025-04-10T06:29:09.733105Z",
     "start_time": "2025-04-10T06:29:09.664030Z"
    }
   },
   "cell_type": "code",
   "source": [
    "# Step 1: Load Data\n",
    "bugs_df = pd.read_csv(\"cassandra/cassandra_bugs.csv\")\n",
    "duplicates_df = pd.read_csv(\"cassandra/cassandra_bugs-combined.csv\")"
   ],
   "id": "3114abe328d17fc7",
   "outputs": [],
   "execution_count": 11
  },
  {
   "metadata": {
    "ExecuteTime": {
     "end_time": "2025-04-10T06:29:09.754972Z",
     "start_time": "2025-04-10T06:29:09.740325Z"
    }
   },
   "cell_type": "code",
   "source": [
    "# Step 2: Preprocessing\n",
    "# Merge Summary and Description\n",
    "bugs_df[\"text\"] = bugs_df[[\"Summary\", \"Description\"]].fillna(\"\").agg(\" \".join, axis=1)\n",
    "\n",
    "# Map issue ID to text\n",
    "issue_text_map = dict(zip(bugs_df[\"Issue id\"], bugs_df[\"text\"]))\n",
    "\n",
    "# Clean duplicate ID column: handle comma-separated IDs\n",
    "duplicates_df[\"Duplicate id\"] = duplicates_df[\"Duplicate id\"].astype(str).str.split(r\",\\s*\")\n",
    "duplicates_df = duplicates_df.explode(\"Duplicate id\")\n",
    "\n",
    "# Convert to integers and drop invalid rows\n",
    "duplicates_df[\"Issue id\"] = pd.to_numeric(duplicates_df[\"Issue id\"], errors='coerce')\n",
    "duplicates_df[\"Duplicate id\"] = pd.to_numeric(duplicates_df[\"Duplicate id\"], errors='coerce')\n",
    "duplicates_df = duplicates_df.dropna().astype(int)\n",
    "\n",
    "# Filter for valid IDs present in text map\n",
    "duplicates_df = duplicates_df[\n",
    "    (duplicates_df[\"Issue id\"].isin(issue_text_map)) &\n",
    "    (duplicates_df[\"Duplicate id\"].isin(issue_text_map))\n",
    "]"
   ],
   "id": "3b450db57ab204bf",
   "outputs": [],
   "execution_count": 12
  },
  {
   "metadata": {
    "ExecuteTime": {
     "end_time": "2025-04-10T06:29:10.006779Z",
     "start_time": "2025-04-10T06:29:09.761677Z"
    }
   },
   "cell_type": "code",
   "source": [
    "# Step 3: TF-IDF Vectorization\n",
    "all_ids = list(issue_text_map.keys())\n",
    "all_texts = [issue_text_map[iid] for iid in all_ids]\n",
    "\n",
    "vectorizer = TfidfVectorizer(stop_words=\"english\", max_features=10000)\n",
    "tfidf_matrix = vectorizer.fit_transform(all_texts)\n",
    "\n",
    "# Index mapping\n",
    "id_to_index = {iid: idx for idx, iid in enumerate(all_ids)}"
   ],
   "id": "d6fdcb8b7717a316",
   "outputs": [],
   "execution_count": 13
  },
  {
   "metadata": {
    "ExecuteTime": {
     "end_time": "2025-04-10T06:29:10.425883Z",
     "start_time": "2025-04-10T06:29:10.015635Z"
    }
   },
   "cell_type": "code",
   "source": [
    "# Step 4: IR-based Retrieval\n",
    "results = []\n",
    "\n",
    "for _, row in duplicates_df.iterrows():\n",
    "    qid = row[\"Issue id\"]\n",
    "    true_duplicate = row[\"Duplicate id\"]\n",
    "\n",
    "    if qid not in id_to_index or true_duplicate not in id_to_index:\n",
    "        continue\n",
    "\n",
    "    q_idx = id_to_index[qid]\n",
    "    q_vec = tfidf_matrix[q_idx]\n",
    "\n",
    "    similarities = cosine_similarity(q_vec, tfidf_matrix).flatten()\n",
    "    top_indices = similarities.argsort()[::-1][1:11]  # Exclude self\n",
    "    top_ids = [all_ids[i] for i in top_indices]\n",
    "    top_scores = similarities[top_indices]\n",
    "\n",
    "    found = true_duplicate in top_ids\n",
    "\n",
    "    results.append({\n",
    "        \"query_id\": qid,\n",
    "        \"true_duplicate\": true_duplicate,\n",
    "        \"found_in_top_10\": found,\n",
    "        \"top_10_ranked_ids\": top_ids,\n",
    "        \"top_10_scores\": top_scores.tolist()\n",
    "    })\n"
   ],
   "id": "90fbf1690fdd9326",
   "outputs": [],
   "execution_count": 14
  },
  {
   "metadata": {
    "collapsed": true,
    "ExecuteTime": {
     "end_time": "2025-04-10T06:29:10.484890Z",
     "start_time": "2025-04-10T06:29:10.432510Z"
    }
   },
   "cell_type": "code",
   "source": [
    "# Step 5: Evaluate Recall@10\n",
    "recall_at_10 = sum(r[\"found_in_top_10\"] for r in results) / len(results)\n",
    "print(f\"Recall@10: {recall_at_10:.2f} over {len(results)} queries\")\n",
    "\n",
    "# Step 6: Score Distribution Plot\n",
    "all_scores = [score for r in results for score in r[\"top_10_scores\"]]\n",
    "\n",
    "plt.figure(figsize=(8, 5))\n",
    "plt.hist(all_scores, bins=20, edgecolor='black')\n",
    "plt.title(\"Distribution of Top-10 Cosine Similarity Scores\")\n",
    "plt.xlabel(\"Cosine Similarity\")\n",
    "plt.ylabel(\"Frequency\")\n",
    "plt.grid(True)\n",
    "plt.tight_layout()\n",
    "plt.show()\n"
   ],
   "id": "initial_id",
   "outputs": [
    {
     "name": "stdout",
     "output_type": "stream",
     "text": [
      "Recall@10: 0.61 over 300 queries\n"
     ]
    },
    {
     "data": {
      "text/plain": [
       "<Figure size 800x500 with 1 Axes>"
      ],
      "image/png": "[encoded data removed]"
     },
     "metadata": {},
     "output_type": "display_data"
    }
   ],
   "execution_count": 15
  }
 ],
 "metadata": {
  "kernelspec": {
   "display_name": "Python 3",
   "language": "python",
   "name": "python3"
  },
  "language_info": {
   "codemirror_mode": {
    "name": "ipython",
    "version": 2
   },
   "file_extension": ".py",
   "mimetype": "text/x-python",
   "name": "python",
   "nbconvert_exporter": "python",
   "pygments_lexer": "ipython2",
   "version": "2.7.6"
  }
 },
 "nbformat": 4,
 "nbformat_minor": 5
}
