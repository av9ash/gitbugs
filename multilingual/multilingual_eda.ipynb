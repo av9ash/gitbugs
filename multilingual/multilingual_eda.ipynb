{
 "cells": [
  {
   "cell_type": "markdown",
   "id": "fa0de5c2",
   "metadata": {},
   "source": [
    "# Bug Reports Analysis Notebook\n",
    "\n",
    "This notebook analyzes bug reports from a multilingual dataset. It includes:\n",
    "- Language distribution analysis\n",
    "- Bug reports over time visualization\n",
    "- Common labels analysis\n",
    "- Top bigrams and trigrams extraction\n",
    "- Word count comparison\n",
    "\n",
    "Ensure that the dataset `multilingual_labelled_translated.csv` is available in the working directory before running the notebook.\n"
   ]
  },
  {
   "cell_type": "code",
   "id": "5f7dae88",
   "metadata": {
    "jupyter": {
     "is_executing": true
    }
   },
   "source": [
    "import matplotlib.pyplot as plt\n",
    "import pandas as pd\n",
    "from collections import Counter\n",
    "from sklearn.feature_extraction.text import CountVectorizer\n",
    "import string\n",
    "import warnings\n",
    "\n",
    "# Suppress warnings for cleaner output\n",
    "warnings.filterwarnings(\"ignore\")\n",
    "\n",
    "# Define custom stopwords\n",
    "custom_stopwords = ['the', 'is', 'at', 'which', 'on', 'for', 'in', 'to', 'and', 'a', 'an', 'it', 'this', 'that', 'with',\n",
    "                    'as', 'of', 'by', 'from', 'or', 'be', 'can', 'not', 'but', 'if', 'are', 'will', 'so', 'what',\n",
    "                    'when', 'where', 'how', 'have', 'has', 'we', 'i', 'you', 'they', 'their', 'was', 'were', 'do',\n",
    "                    'does', 'did', 'about', 'after', 'before', 'just', 'like', 'now', 'only']\n"
   ],
   "outputs": [],
   "execution_count": null
  },
  {
   "cell_type": "code",
   "execution_count": null,
   "id": "530f7997",
   "metadata": {},
   "outputs": [],
   "source": [
    "def simple_tokenize(text):\n",
    "    if isinstance(text, str):\n",
    "        tokens = text.lower().translate(str.maketrans(\"\", \"\", string.punctuation)).split()\n",
    "        return tokens\n",
    "    return []\n"
   ]
  },
  {
   "cell_type": "code",
   "execution_count": null,
   "id": "b5255bec",
   "metadata": {},
   "outputs": [],
   "source": [
    "def graph_lang_distribution(df):\n",
    "    language_counts = df['src_lang'].value_counts(dropna=False)\n",
    "    plt.figure(figsize=(12, 6))\n",
    "    language_counts.plot(kind='bar')\n",
    "    plt.xlabel(\"Language\")\n",
    "    plt.ylabel(\"Number of Bug Reports\")\n",
    "    plt.title(\"Distribution of Bug Reports by Language\")\n",
    "    plt.xticks(rotation=45)\n",
    "    plt.grid(axis='y', linestyle='--', alpha=0.7)\n",
    "    plt.show()\n"
   ]
  },
  {
   "cell_type": "code",
   "execution_count": null,
   "id": "36705357",
   "metadata": {},
   "outputs": [],
   "source": [
    "def bug_reports_over_time(df):\n",
    "    df['created_at'] = pd.to_datetime(df['created_at'], errors='coerce')\n",
    "    df_time_series = df.groupby(df['created_at'].dt.date).size()\n",
    "    plt.figure(figsize=(12, 6))\n",
    "    df_time_series.plot(kind='line', marker='o', linestyle='-', color='green', alpha=0.7)\n",
    "    plt.title(\"Bug Reports Over Time\")\n",
    "    plt.xlabel(\"Date\")\n",
    "    plt.ylabel(\"Number of Reports\")\n",
    "    plt.xticks(rotation=45)\n",
    "    plt.grid(True)\n",
    "    plt.show()\n"
   ]
  },
  {
   "cell_type": "code",
   "execution_count": null,
   "id": "ec74345e",
   "metadata": {},
   "outputs": [],
   "source": [
    "def top_20_labels(df):\n",
    "    label_list = df['labels'].dropna().str.split(':').sum()\n",
    "    label_counts = Counter(label_list)\n",
    "    label_df = pd.DataFrame(label_counts.items(), columns=['Label', 'Count']).sort_values(by='Count', ascending=False)\n",
    "    plt.figure(figsize=(12, 6))\n",
    "    plt.barh(label_df['Label'][:20], label_df['Count'][:20], color='purple', alpha=0.7)\n",
    "    plt.xlabel(\"Count\")\n",
    "    plt.ylabel(\"Labels\")\n",
    "    plt.title(\"Top 20 Most Common Labels in Bug Reports\")\n",
    "    plt.gca().invert_yaxis()\n",
    "    plt.show()\n"
   ]
  },
  {
   "cell_type": "code",
   "execution_count": null,
   "id": "26743df1",
   "metadata": {},
   "outputs": [],
   "source": [
    "def get_top_ngrams(corpus, ngram_range=(2, 2), top_n=20):\n",
    "    vectorizer = CountVectorizer(ngram_range=ngram_range, stop_words=custom_stopwords)\n",
    "    X = vectorizer.fit_transform(corpus)\n",
    "    ngram_counts = X.sum(axis=0).tolist()[0]\n",
    "    ngram_list = vectorizer.get_feature_names_out()\n",
    "    sorted_ngrams = sorted(zip(ngram_list, ngram_counts), key=lambda x: x[1], reverse=True)[:top_n]\n",
    "    return pd.DataFrame(sorted_ngrams, columns=['N-gram', 'Count'])\n"
   ]
  },
  {
   "cell_type": "code",
   "execution_count": null,
   "id": "5d8dee11",
   "metadata": {},
   "outputs": [],
   "source": [
    "def top_bigrams_and_trigrams(df):\n",
    "    df['translation'] = df['translation'].astype(str)\n",
    "    df['clean_text'] = df['translation'].fillna('').str.lower().str.replace(r'[^a-z\\s]', '', regex=True)\n",
    "    top_bigrams = get_top_ngrams(df['clean_text'], ngram_range=(2, 2), top_n=20)\n",
    "    top_trigrams = get_top_ngrams(df['clean_text'], ngram_range=(3, 3), top_n=20)\n",
    "    plt.figure(figsize=(12, 6))\n",
    "    plt.barh(top_bigrams['N-gram'], top_bigrams['Count'], color='blue', alpha=0.7)\n",
    "    plt.xlabel(\"Count\")\n",
    "    plt.ylabel(\"Bigrams\")\n",
    "    plt.title(\"Top 20 Bigrams in Translated Bug Reports (After Removing Stopwords)\")\n",
    "    plt.gca().invert_yaxis()\n",
    "    plt.show()\n",
    "    plt.figure(figsize=(12, 6))\n",
    "    plt.barh(top_trigrams['N-gram'], top_trigrams['Count'], color='green', alpha=0.7)\n",
    "    plt.xlabel(\"Count\")\n",
    "    plt.ylabel(\"Trigrams\")\n",
    "    plt.title(\"Top 20 Trigrams in Translated Bug Reports (After Removing Stopwords)\")\n",
    "    plt.gca().invert_yaxis()\n",
    "    plt.show()\n"
   ]
  },
  {
   "cell_type": "code",
   "execution_count": null,
   "id": "113e882e",
   "metadata": {},
   "outputs": [],
   "source": [
    "def word_count(df):\n",
    "    df['body'] = df['body'].astype(str)\n",
    "    df['translation'] = df['translation'].astype(str)\n",
    "    df['original_word_count'] = df['body'].apply(lambda x: len(x.split()))\n",
    "    df['translated_word_count'] = df['translation'].apply(lambda x: len(x.split()))\n",
    "    word_count_stats = pd.DataFrame({\n",
    "        'Original Bug Reports': df['original_word_count'].describe(),\n",
    "        'Translated Bug Reports': df['translated_word_count'].describe()\n",
    "    })\n",
    "    print(word_count_stats)\n"
   ]
  },
  {
   "cell_type": "code",
   "execution_count": null,
   "id": "cffbb374",
   "metadata": {},
   "outputs": [],
   "source": [
    "file_path = \"multilingual_labelled_translated.csv\"  # Update the filename accordingly\n",
    "df = pd.read_csv(file_path)\n",
    "df.head()\n",
    "graph_lang_distribution(df)\n",
    "bug_reports_over_time(df)\n",
    "top_20_labels(df)\n",
    "top_bigrams_and_trigrams(df)\n",
    "word_count(df)\n"
   ]
  }
 ],
 "metadata": {},
 "nbformat": 4,
 "nbformat_minor": 5
}
